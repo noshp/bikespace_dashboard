{
 "cells": [
  {
   "cell_type": "code",
   "execution_count": 1,
   "metadata": {},
   "outputs": [],
   "source": [
    "import pandas as pd\n",
    "import requests"
   ]
  },
  {
   "cell_type": "code",
   "execution_count": 5,
   "metadata": {},
   "outputs": [],
   "source": [
    "def get_submission_data():\n",
    "    url = 'https://api-dev.bikespace.ca/api/v2/submissions'\n",
    "    headers = {'accept': 'application/json'}\n",
    "    response = requests.get(url, headers=headers)\n",
    "\n",
    "    if response.status_code == 200:\n",
    "        return response.json()\n",
    "    else:\n",
    "        # Handle the error, raise an exception, or return an empty list, depending on your use case.\n",
    "        return []\n",
    "\n",
    "def submissions_to_dataframe(submissions):\n",
    "    data = []\n",
    "    for submission in submissions:\n",
    "        row = {\n",
    "            'id': submission['id'],\n",
    "            'comments': submission['comments'],\n",
    "            'issues': ', '.join(submission['issues']),\n",
    "            'latitude': submission['latitude'],\n",
    "            'longitude': submission['longitude'],\n",
    "            'parking_duration': submission['parking_duration'],\n",
    "            'parking_time': pd.to_datetime(submission['parking_time'])\n",
    "        }\n",
    "        data.append(row)\n",
    "    return pd.DataFrame(data)\n",
    "\n",
    "# Fetch data and convert to DataFrame\n",
    "submissions_data = get_submission_data()\n",
    "df = submissions_to_dataframe(submissions_data)"
   ]
  },
  {
   "cell_type": "code",
   "execution_count": null,
   "metadata": {},
   "outputs": [],
   "source": []
  }
 ],
 "metadata": {
  "kernelspec": {
   "display_name": ".venv",
   "language": "python",
   "name": "python3"
  },
  "language_info": {
   "codemirror_mode": {
    "name": "ipython",
    "version": 3
   },
   "file_extension": ".py",
   "mimetype": "text/x-python",
   "name": "python",
   "nbconvert_exporter": "python",
   "pygments_lexer": "ipython3",
   "version": "3.11.6"
  }
 },
 "nbformat": 4,
 "nbformat_minor": 2
}
